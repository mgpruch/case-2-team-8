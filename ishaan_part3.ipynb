{
 "cells": [
  {
   "cell_type": "code",
   "execution_count": 619,
   "id": "31acf9d7",
   "metadata": {},
   "outputs": [
    {
     "data": {
      "text/plain": [
       "{'Addison',\n",
       " 'Adriel',\n",
       " 'Aidan',\n",
       " 'Alex',\n",
       " 'Alicia',\n",
       " 'Amari',\n",
       " 'Amelia',\n",
       " 'Asher',\n",
       " 'Ashlee',\n",
       " 'Ashton',\n",
       " 'Avery',\n",
       " 'Blake',\n",
       " 'Brandon',\n",
       " 'Brigham',\n",
       " 'Brody',\n",
       " 'Brooke',\n",
       " 'Caden',\n",
       " 'Cailen',\n",
       " 'Cameron',\n",
       " 'Carson',\n",
       " 'Charlie',\n",
       " 'Charlotte',\n",
       " 'Chase',\n",
       " 'Christopher',\n",
       " 'Colin',\n",
       " 'Colt',\n",
       " 'Connor',\n",
       " 'Crew',\n",
       " 'Curran',\n",
       " 'Dallas',\n",
       " 'Daniel',\n",
       " 'David',\n",
       " 'Donnell',\n",
       " 'Dulcy',\n",
       " 'Elle',\n",
       " 'Ethan',\n",
       " 'Evan',\n",
       " 'Eveylynn',\n",
       " 'Frederick',\n",
       " 'Fuzzy',\n",
       " 'Garrett',\n",
       " 'Hunter',\n",
       " 'Ian',\n",
       " 'Isaiah',\n",
       " 'J.R.',\n",
       " 'Jack',\n",
       " 'Jackson',\n",
       " 'Jade',\n",
       " 'Javier',\n",
       " 'Jeremy',\n",
       " 'Johnny',\n",
       " 'Jordan',\n",
       " 'Jordis',\n",
       " 'Joscelyn',\n",
       " 'Joshua',\n",
       " 'Kaliya',\n",
       " 'Kameron',\n",
       " 'Katelyn',\n",
       " 'Kayla',\n",
       " 'Kazuki',\n",
       " 'Kelise',\n",
       " 'Kellen',\n",
       " 'Kelton',\n",
       " 'Khoi',\n",
       " 'Kristian',\n",
       " 'Kyle',\n",
       " 'Landen',\n",
       " 'Landon',\n",
       " 'Leanne',\n",
       " 'Leo',\n",
       " 'Levi',\n",
       " 'Lexi',\n",
       " 'Luke',\n",
       " 'Mac',\n",
       " 'Madray',\n",
       " 'Marissa',\n",
       " 'Matt',\n",
       " 'Matthew',\n",
       " 'Maxim',\n",
       " 'Maxwell',\n",
       " 'Michael',\n",
       " 'Michelle',\n",
       " 'Mike',\n",
       " 'Myli',\n",
       " 'Nicky',\n",
       " 'Noah',\n",
       " 'Nola',\n",
       " 'Oliver',\n",
       " 'Parker',\n",
       " 'Patrick',\n",
       " 'Paul',\n",
       " 'Riley',\n",
       " 'Ronan',\n",
       " 'Sam',\n",
       " 'Samuel',\n",
       " 'Shane',\n",
       " 'Shilese',\n",
       " 'Simone',\n",
       " 'Skye',\n",
       " 'Solen',\n",
       " 'Spencer',\n",
       " 'Stephen',\n",
       " 'Sunisa',\n",
       " 'Syam',\n",
       " 'Tate',\n",
       " 'Taylor',\n",
       " 'Tiana',\n",
       " 'Toby',\n",
       " 'Troy',\n",
       " 'Tyler',\n",
       " 'Vahe',\n",
       " 'Yul',\n",
       " 'Zachary',\n",
       " 'Zoe'}"
      ]
     },
     "execution_count": 619,
     "metadata": {},
     "output_type": "execute_result"
    }
   ],
   "source": [
    "import pandas as pd\n",
    "import statistics\n",
    "import heapq\n",
    "\n",
    "\n",
    "mens_data = pd.read_csv(\"mens_gym_data_fil.csv\")\n",
    "womens_data = pd.read_csv(\"womens_gym_data_fil.csv\")\n",
    "mens_data[\"Month\"] = mens_data[\"Date\"].apply(lambda x: x.split(\" \")[-2])\n",
    "mens_data['Month'] = mens_data['Month'].replace({'Jan': 1, 'Feb': 2, 'Mar': 3, \n",
    "                                   'Apr': 4, 'May': 5, 'June': 6, 'July': 7, 'Aug': 8, \n",
    "                                   'Sept': 9, 'Oct': 10, 'Nov': 11, 'Dec': 12})\n",
    "womens_data[\"Month\"] = womens_data[\"Date\"].apply(lambda x: x.split(\" \")[-2])\n",
    "womens_data['Month'] = womens_data['Month'].replace({'Jan': 1, 'Feb': 2, 'Mar': 3, \n",
    "                                   'Apr': 4, 'May': 5, 'June': 6, 'July': 7, 'Aug': 8, \n",
    "                                   'Sept': 9, 'Oct': 10, 'Nov': 11, 'Dec': 12})\n",
    "\n",
    "mens_data['name'] = mens_data['name'].replace('Fred RICHARD', \"Frederick Nathaniel RICHARD\")\n",
    "mens_data['FirstName'] = mens_data['FirstName'].replace('Fred', 'Frederick')\n",
    "mens_data['FirstName'] = mens_data['FirstName'].replace('Frederick Nathaniel', 'Frederick')\n",
    "mens_data['name'] = mens_data['name'].replace('Frederick RICHARD', \"Frederick Nathaniel RICHARD\")\n",
    "mens_data['name'] = mens_data['name'].replace('Joshua KARNES', \"Joshua Andrew KARNES\")\n",
    "mens_data['FirstName'] = mens_data['FirstName'].replace(\"Joshua Andrew\", 'Joshua')\n",
    "mens_data['name'] = mens_data['name'].replace(\"Curran Michael PHILLIPS\", \"Curran PHILLIPS\")\n",
    "mens_data['FirstName'] = mens_data['FirstName'].replace(\"Curran Michael\", 'Curran')\n",
    "mens_data['FirstName'] = mens_data['FirstName'].replace(\"Taylor Troy\", 'Taylor')\n",
    "mens_data['name'] = mens_data['name'].replace(\"Taylor Troy CHRISTOPULOS\", \"Taylor CHRISTOPULOS\")\n",
    "mens_data['name'] = mens_data['name'].replace('Khoi Alexander YOUNG', 'Khoi YOUNG')\n",
    "mens_data['FirstName'] = mens_data['FirstName'].replace(\"Khoi Alexander\", 'Khoi')\n",
    "mens_data['name'] = mens_data['name'].replace('Ian Hunter SKIRKEY', 'Ian SKIRKEY')\n",
    "mens_data['FirstName'] = mens_data['FirstName'].replace(\"Ian Hunter\", 'Ian')\n",
    "mens_data['name'] = mens_data['name'].replace('Shane Michael WISKUS', 'Shane WISKUS')\n",
    "mens_data['FirstName'] = mens_data['FirstName'].replace(\"Shane Michael\", 'Shane')\n",
    "mens_data['name'] = mens_data['name'].replace('Yul Kyung Tae MOLDAUER', 'Yul MOLDAUER')\n",
    "mens_data['FirstName'] = mens_data['FirstName'].replace(\"Yul Kyung Tae\", 'Yul')\n",
    "\n",
    "womens_data['name'] = womens_data['name'].replace('Joscelyn Michelle ROBERSON', 'Joscelyn ROBERSON')\n",
    "womens_data['FirstName'] = womens_data['FirstName'].replace(\"Joscelyn Michelle\", 'Joscelyn')\n",
    "\n",
    "womens_data['name'] = womens_data['name'].replace('Nola Rhianne MATTHEWS', 'Nola MATTHEWS')\n",
    "womens_data['FirstName'] = womens_data['FirstName'].replace(\"Nola Rhianne\", 'Nola')\n",
    "\n",
    "\n",
    "mens_data.to_csv('mens_gym_data_fil_2.csv')\n",
    "womens_data.to_csv('womens_gym_data_fil_2.csv')\n",
    "frames = [mens_data, womens_data]\n",
    "result = pd.concat(frames)\n",
    "result.to_csv('filtered_3.csv')\n",
    "\n",
    "set(result['FirstName'])\n",
    "\n"
   ]
  },
  {
   "cell_type": "code",
   "execution_count": null,
   "id": "52226b2d",
   "metadata": {},
   "outputs": [],
   "source": []
  },
  {
   "cell_type": "code",
   "execution_count": 604,
   "id": "0ad3c56a",
   "metadata": {},
   "outputs": [],
   "source": [
    "def weight_adjustment(month, year, roundtype):\n",
    "    weight = 1\n",
    "    if roundtype in [\"AAfinal\", \"TeamFinal\", \"final\"]:\n",
    "        weight += 0.5\n",
    "    if year == 2022:\n",
    "        weight = 1 + 0.0625 * (month - 1)\n",
    "    else:\n",
    "        weight = 1.75 + 0.0625 * (month - 1)\n",
    "        \n",
    "    return weight\n",
    "\n",
    "def adjusted_score_c(data_point):\n",
    "    adjusted_score = 14\n",
    "    rank = data_point[\"Rank\"]\n",
    "    if rank == 1:\n",
    "        adjusted_score *= 10\n",
    "    elif rank == 2:\n",
    "        adjusted_score *= 7.5\n",
    "    elif rank == 3:\n",
    "        adjusted_score *= 5\n",
    "    elif rank <= 5:\n",
    "        adjusted_score *= 4\n",
    "    elif rank <= 10:\n",
    "        adjusted_score *= 2.5\n",
    "    elif pd.isna(rank):\n",
    "        adjusted_score *= 1\n",
    "    \n",
    "    return adjusted_score"
   ]
  },
  {
   "cell_type": "code",
   "execution_count": 605,
   "id": "ae3e8b8c",
   "metadata": {},
   "outputs": [],
   "source": [
    "mens_apps = set(mens_data['Apparatus'])\n",
    "\n",
    "## Starting with the male performances\n",
    "## 1. I would like to put recent performances with more weights.\n",
    "## 2. I would like to weight top medals with higher weights.\n",
    "## 3. I would like to weight final round performances higher.\n",
    "## 4. I would like to weight consistency more. -> This'll come in for determining our best guys OR as a smell check\n",
    "## 5. If they don't rank in a particular event, I heavily weigh against.\n",
    "\n",
    "\n",
    "## Structure of the Dict\n",
    "## {Abe: [(AppA: WeightedScore), (AppB: WeightedScore), ...]\n",
    "\n",
    "## WeightedScore calculated by ListOfScores: [AdjustedScore, WeightGiven]\n",
    "\n",
    "## WeightGiven\n",
    "## Recent Performances = 1 - 1.75 if 2022, 1.75 - 2.5 if 2023\n",
    "## Round Type = 1 if not final, 1.5 if final\n",
    "\n",
    "## AdjustedScore\n",
    "## TopMedal = 2 if Gold, 1.75 if Silver, 1.5 if Bronze, 1.25 if 4th or 5th\n",
    "## RankingBad = 0.6x if <30th, 0.85x if <20th\n",
    "\n",
    "## Measure Consistency at the End\n",
    "def create_performances(mens_data):\n",
    "    male_performances = {}\n",
    "    males_sw = {}\n",
    "    for i in set(mens_data['name']):\n",
    "        person_data = mens_data[mens_data[\"name\"] == i].copy()\n",
    "        performances = []\n",
    "        score_and_weights = []\n",
    "        for j in set(mens_data['Apparatus']):\n",
    "            rel_data = person_data[person_data[\"Apparatus\"] == j].copy()\n",
    "            total_score = 0\n",
    "            total_weights = 0\n",
    "            for k in range(0, len(rel_data)):\n",
    "                rel_point = rel_data.iloc[k]\n",
    "                weightgiven = weight_adjustment(rel_point[\"Month\"], rel_point[\"Year\"], rel_point[\"Round\"])\n",
    "                adjusted_score = adjusted_score_c(rel_point)\n",
    "                score_and_weights.append((weightgiven, adjusted_score, j, rel_point['Score'], rel_point['Rank']))\n",
    "                total_score += weightgiven * adjusted_score\n",
    "                total_weights += weightgiven\n",
    "            if len(rel_data) == 0:\n",
    "                performances.append((j, 0))\n",
    "            else:\n",
    "                performances.append((j, total_score / total_weights))\n",
    "        males_sw[i] = score_and_weights\n",
    "        male_performances[i] = performances\n",
    "    return male_performances, males_sw\n",
    "            \n",
    "    \n",
    "def create_sum_avgs(mens_data):\n",
    "    male_performances, males_swe = create_performances(mens_data)\n",
    "    male_sum_scores = []\n",
    "    male_avg_scores = []\n",
    "    male_best1_scores = []\n",
    "    male_best2_scores = []\n",
    "    male_best3_scores = []\n",
    "    for m in set(mens_data['name']):\n",
    "        personsscores = male_performances[m]\n",
    "        sc = [s[1] for s in personsscores]\n",
    "        male_sum_scores.append((m, sum(sc)))\n",
    "        stripped = []\n",
    "        for i in sc:\n",
    "            if i > 8:\n",
    "                stripped.append(i)\n",
    "        if len(stripped) == 0:\n",
    "            continue\n",
    "        ## Best 1\n",
    "        male_best1_scores.append((m, max(stripped)))\n",
    "        \n",
    "        ## Best 2\n",
    "        if len(stripped) >= 2:\n",
    "            male_best2_scores.append((m, statistics.mean(heapq.nlargest(2, stripped))))\n",
    "        \n",
    "        ## Best 3\n",
    "        if len(stripped) >= 3:\n",
    "            male_best3_scores.append((m, statistics.mean(heapq.nlargest(3, stripped))))\n",
    "    \n",
    "    return male_sum_scores, males_swe, male_performances, [male_best1_scores, \n",
    "                                                                            male_best2_scores, male_best3_scores]          \n",
    "            \n",
    "        "
   ]
  },
  {
   "cell_type": "code",
   "execution_count": 606,
   "id": "1eea4e84",
   "metadata": {},
   "outputs": [],
   "source": [
    "male_sum_scores, males_swe, male_performances, best_scores = create_sum_avgs(mens_data)"
   ]
  },
  {
   "cell_type": "code",
   "execution_count": 607,
   "id": "525d89e0",
   "metadata": {},
   "outputs": [
    {
     "data": {
      "text/plain": [
       "[('Brody MALONE', 249.80154659560017),\n",
       " ('Donnell WHITTENBURG', 195.52011560555243),\n",
       " ('Frederick Nathaniel RICHARD', 190.83141796337506),\n",
       " ('Asher HONG', 189.26565927742791),\n",
       " ('Paul JUDA', 178.88345434011973),\n",
       " ('Taylor BURKHART', 174.98751609709757),\n",
       " ('Joshua Andrew KARNES', 171.18041336681475),\n",
       " ('Khoi YOUNG', 169.02882167446435),\n",
       " ('Colt WALKER', 165.77200819602803),\n",
       " ('Cameron BOCK', 158.15374820576932)]"
      ]
     },
     "execution_count": 607,
     "metadata": {},
     "output_type": "execute_result"
    }
   ],
   "source": [
    "sorted(male_sum_scores, key=lambda x: x[1], reverse = True)[0:10]"
   ]
  },
  {
   "cell_type": "code",
   "execution_count": 608,
   "id": "00d3dcdd",
   "metadata": {},
   "outputs": [
    {
     "data": {
      "text/plain": [
       "[('Brody MALONE', 84.75796178343948),\n",
       " ('Curran PHILLIPS', 77.2883295194508),\n",
       " ('Donnell WHITTENBURG', 67.7936507936508),\n",
       " ('Stephen NEDOROSCIK', 60.963276836158194),\n",
       " ('Frederick Nathaniel RICHARD', 49.170731707317074),\n",
       " ('Ian SKIRKEY', 48.38659793814433),\n",
       " ('Khoi YOUNG', 47.75471698113208),\n",
       " ('Taylor BURKHART', 47.43283582089552),\n",
       " ('Paul JUDA', 47.26315789473684),\n",
       " ('Colt WALKER', 47.09493670886076)]"
      ]
     },
     "execution_count": 608,
     "metadata": {},
     "output_type": "execute_result"
    }
   ],
   "source": [
    "sorted(best_scores[0], key=lambda x: x[1], reverse = True)[0:10]"
   ]
  },
  {
   "cell_type": "code",
   "execution_count": 609,
   "id": "782ba9b9",
   "metadata": {},
   "outputs": [
    {
     "data": {
      "text/plain": [
       "[('Brody MALONE', 70.17941948821097),\n",
       " ('Curran PHILLIPS', 58.97936029045165),\n",
       " ('Donnell WHITTENBURG', 52.345674501684734),\n",
       " ('Khoi YOUNG', 46.47486886401002),\n",
       " ('Taylor BURKHART', 45.373932361314814),\n",
       " ('Paul JUDA', 44.39546783625731),\n",
       " ('Frederick Nathaniel RICHARD', 44.30745887691435),\n",
       " ('Asher HONG', 43.302864420729975),\n",
       " ('Riley LOOS', 39.993769470404985),\n",
       " ('Joshua Andrew KARNES', 38.70359281437126)]"
      ]
     },
     "execution_count": 609,
     "metadata": {},
     "output_type": "execute_result"
    }
   ],
   "source": [
    "sorted(best_scores[1], key=lambda x: x[1], reverse = True)[0:10]"
   ]
  },
  {
   "cell_type": "code",
   "execution_count": 610,
   "id": "7cfeb2bb",
   "metadata": {},
   "outputs": [
    {
     "data": {
      "text/plain": [
       "[('Brody MALONE', 58.93157880410646),\n",
       " ('Curran PHILLIPS', 48.81771479090829),\n",
       " ('Donnell WHITTENBURG', 43.92909665425969),\n",
       " ('Paul JUDA', 41.57825196574458),\n",
       " ('Frederick Nathaniel RICHARD', 40.183796114021334),\n",
       " ('Khoi YOUNG', 40.17516510125921),\n",
       " ('Asher HONG', 38.94363146812462),\n",
       " ('Taylor BURKHART', 37.883954907543206),\n",
       " ('Joshua Andrew KARNES', 35.83433133732535),\n",
       " ('Colt WALKER', 35.0037544972353)]"
      ]
     },
     "execution_count": 610,
     "metadata": {},
     "output_type": "execute_result"
    }
   ],
   "source": [
    "sorted(best_scores[2], key=lambda x: x[1], reverse = True)[0:10]"
   ]
  },
  {
   "cell_type": "code",
   "execution_count": 611,
   "id": "269e9b97",
   "metadata": {},
   "outputs": [],
   "source": [
    "### Men's Finalists for Team:\n",
    "# Brody Malone (X)\n",
    "# Donnell Whittenburg (X)\n",
    "# Frederick Nathaniel Richard\n",
    "# Asher Hong\n",
    "# Paul Juda\n",
    "# Taylor Burkhart\n",
    "# Joshua Karnes\n",
    "# Khoi Young\n",
    "# Curran Phillips\n",
    "# Stephen Nedoroscik"
   ]
  },
  {
   "cell_type": "code",
   "execution_count": 612,
   "id": "466c76de",
   "metadata": {},
   "outputs": [
    {
     "data": {
      "text/plain": [
       "[('Adriel PERALES-VALENCIA', 28.0),\n",
       " ('Aidan CUY', 84.0),\n",
       " ('Alex DIAB', 80.07442888725129),\n",
       " ('Alex KARADZHOV', 84.0),\n",
       " ('Amari SEWELL', 49.0),\n",
       " ('Asher COHEN', 84.0),\n",
       " ('Asher HONG', 189.26565927742791),\n",
       " ('Ashton ANAYA', 14.0),\n",
       " ('Blake SUN', 82.84738955823292),\n",
       " ('Brandon BRIONES', 96.83333333333334),\n",
       " ('Brandon DANG', 44.515625),\n",
       " ('Brandon NGUYEN', 84.0),\n",
       " ('Brigham FRENTHEWAY', 70.0),\n",
       " ('Brody MALONE', 249.80154659560017),\n",
       " ('Caden CLINTON', 84.0),\n",
       " ('Caden PEACOCK', 56.0),\n",
       " ('Cailen WALKER', 42.0),\n",
       " ('Cameron BOCK', 158.15374820576932),\n",
       " ('Carson ESHLEMAN', 70.0),\n",
       " ('Charlie LARSON', 28.0),\n",
       " ('Chase DAVENPORT-MILLS', 84.0),\n",
       " ('Christopher HISER', 28.0),\n",
       " ('Colin FLORES', 84.0),\n",
       " ('Colt WALKER', 165.77200819602803),\n",
       " ('Connor MCCOOL', 58.148514851485146),\n",
       " ('Crew BOLD', 70.0),\n",
       " ('Curran PHILLIPS', 146.45314437272486),\n",
       " ('Dallas HALE', 93.73509933774835),\n",
       " ('Daniel SIMMONS', 84.0),\n",
       " ('David SHAMAH', 84.0),\n",
       " ('Donnell WHITTENBURG', 195.52011560555243),\n",
       " ('Ethan BODER', 56.0),\n",
       " ('Ethan THOMAS', 42.0),\n",
       " ('Evan HYMANSON', 87.1006711409396),\n",
       " ('Evan MANIVONG', 63.0),\n",
       " ('Frederick Nathaniel RICHARD', 190.83141796337506),\n",
       " ('Fuzzy BENAS', 113.95081967213113),\n",
       " ('Garrett BRAUNTON', 84.0),\n",
       " ('Hunter BRUNETT', 70.0),\n",
       " ('Ian GUNTHER', 103.19205298013246),\n",
       " ('Ian LASIC-ELLIS', 154.8628459248188),\n",
       " ('Ian SANDOVAL', 84.0),\n",
       " ('Ian SKIRKEY', 48.38659793814433),\n",
       " ('Isaiah DRAKE', 91.0),\n",
       " ('J.R. CHOU', 56.0),\n",
       " ('Jack FREEMAN', 92.81481481481481),\n",
       " ('Jackson HARRISON', 49.0),\n",
       " ('Javier ALFONSO', 99.445423291792),\n",
       " ('Jeremy BISCHOFF', 87.4186046511628),\n",
       " ('Johnny JACOBSON', 42.0),\n",
       " ('Joshua Andrew KARNES', 171.18041336681475),\n",
       " ('Kameron NELSON', 113.80506910367802),\n",
       " ('Kazuki HAYASHI', 90.86538461538461),\n",
       " ('Kellen RYAN', 105.0),\n",
       " ('Kelton CHRISTIANSEN', 42.0),\n",
       " ('Khoi YOUNG', 169.02882167446435),\n",
       " ('Kristian GRAHOVSKI', 56.0),\n",
       " ('Kyle WALCHUK', 28.0),\n",
       " ('Landen BLIXT', 101.16438356164383),\n",
       " ('Landon SIMPSON', 84.0),\n",
       " ('Leo KOIKE', 70.0),\n",
       " ('Luke ESPARO', 56.0),\n",
       " ('Mac SEYLER', 42.0),\n",
       " ('Matt BURGOYNE', 56.0),\n",
       " ('Matt CORMIER', 117.40268456375838),\n",
       " ('Matthew UNDERHILL', 35.0),\n",
       " ('Maxim BEREZNEV', 84.0),\n",
       " ('Maxwell ODDEN', 105.0),\n",
       " ('Michael ARTLIP', 91.73684210526315),\n",
       " ('Michael JAROH', 131.34104046242777),\n",
       " ('Mike FLETCHER', 86.36423841059603),\n",
       " ('Nicky FRANZ', 56.0),\n",
       " ('Noah NEWFELD', 84.0),\n",
       " ('Oliver ZAVEL', 84.0),\n",
       " ('Parker THACKSTON', 14.0),\n",
       " ('Patrick HOOPES', 53.054455445544555),\n",
       " ('Paul JUDA', 178.88345434011973),\n",
       " ('Riley LOOS', 157.77652960666975),\n",
       " ('Ronan MCQUILLAN', 35.0),\n",
       " ('Sam LEE', 42.0),\n",
       " ('Samuel PHILLIPS', 70.0),\n",
       " ('Shane WISKUS', 150.34491014847538),\n",
       " ('Solen CHIODI', 84.0),\n",
       " ('Spencer GOODELL', 70.0),\n",
       " ('Stephen NEDOROSCIK', 60.963276836158194),\n",
       " ('Syam BURADAGUNTA', 63.0),\n",
       " ('Tate COSTA', 56.0),\n",
       " ('Taylor BURKHART', 174.98751609709757),\n",
       " ('Taylor CHRISTOPULOS', 100.77291700547515),\n",
       " ('Toby LIANG', 87.64285714285714),\n",
       " ('Troy LIPIS', 14.0),\n",
       " ('Tyler FLORES', 84.0),\n",
       " ('Tyler SHIMIZU', 56.0),\n",
       " ('Vahe PETROSYAN', 99.82394366197184),\n",
       " ('Yul MOLDAUER', 143.02689150719576),\n",
       " ('Zachary MARCKX', 28.0),\n",
       " ('Zachary NUNEZ', 122.90163934426229)]"
      ]
     },
     "execution_count": 612,
     "metadata": {},
     "output_type": "execute_result"
    }
   ],
   "source": [
    "sorted(male_sum_scores)"
   ]
  },
  {
   "cell_type": "code",
   "execution_count": null,
   "id": "818ea519",
   "metadata": {},
   "outputs": [],
   "source": []
  },
  {
   "cell_type": "code",
   "execution_count": 613,
   "id": "54cacec5",
   "metadata": {},
   "outputs": [],
   "source": [
    "womens_apps = set(womens_data['Apparatus'])\n",
    "womens_sum_scores, womens_swe, womens_performances, womens_best_scores = create_sum_avgs(womens_data)"
   ]
  },
  {
   "cell_type": "code",
   "execution_count": 614,
   "id": "daf6719a",
   "metadata": {},
   "outputs": [
    {
     "data": {
      "text/plain": [
       "[('Simone BILES', 287.8896060726934),\n",
       " ('Jordan CHILES', 198.08152106266806),\n",
       " ('Joscelyn ROBERSON', 183.10938550379834),\n",
       " ('Kayla DICELLO', 172.3985411365564),\n",
       " ('Jade CAREY', 168.59192581868828),\n",
       " ('Shilese JONES', 167.67622030422),\n",
       " ('Zoe MILLER', 158.59610351846467),\n",
       " ('Kaliya LINCOLN', 154.59863053613054),\n",
       " ('Skye BLAKELY', 114.4503574692254),\n",
       " ('Ashlee SULLIVAN', 109.26167496886674)]"
      ]
     },
     "execution_count": 614,
     "metadata": {},
     "output_type": "execute_result"
    }
   ],
   "source": [
    "sorted(womens_sum_scores, key=lambda x: x[1], reverse = True)[0:10]"
   ]
  },
  {
   "cell_type": "code",
   "execution_count": 615,
   "id": "d1f23600",
   "metadata": {},
   "outputs": [
    {
     "data": {
      "text/plain": [
       "[('Zoe MILLER', 102.78947368421052),\n",
       " ('Kaliya LINCOLN', 91.70673076923077),\n",
       " ('Jade CAREY', 89.96954314720813),\n",
       " ('Simone BILES', 86.71146245059289),\n",
       " ('Jordan CHILES', 82.32911392405063),\n",
       " ('Joscelyn ROBERSON', 64.12978369384359),\n",
       " ('Kayla DICELLO', 60.30152671755725),\n",
       " ('Shilese JONES', 59.72374429223744),\n",
       " ('Jordis EICHMAN', 56.0),\n",
       " ('Ashlee SULLIVAN', 53.69318181818182)]"
      ]
     },
     "execution_count": 615,
     "metadata": {},
     "output_type": "execute_result"
    }
   ],
   "source": [
    "sorted(womens_best_scores[0], key=lambda x: x[1], reverse = True)[0:10]"
   ]
  },
  {
   "cell_type": "code",
   "execution_count": 616,
   "id": "94b1ee62",
   "metadata": {},
   "outputs": [
    {
     "data": {
      "text/plain": [
       "[('Simone BILES', 86.71146245059289),\n",
       " ('Jordan CHILES', 68.43354430379748),\n",
       " ('Joscelyn ROBERSON', 63.77869275189917),\n",
       " ('Zoe MILLER', 61.87539982553068),\n",
       " ('Jade CAREY', 61.19596290934413),\n",
       " ('Kaliya LINCOLN', 60.22355769230769),\n",
       " ('Kayla DICELLO', 50.96409669211196),\n",
       " ('Shilese JONES', 50.580784063217166),\n",
       " ('Ashlee SULLIVAN', 40.63083748443338),\n",
       " ('Skye BLAKELY', 38.36039886039886)]"
      ]
     },
     "execution_count": 616,
     "metadata": {},
     "output_type": "execute_result"
    }
   ],
   "source": [
    "sorted(womens_best_scores[1], key=lambda x: x[1], reverse = True)[0:10]"
   ]
  },
  {
   "cell_type": "code",
   "execution_count": 617,
   "id": "3fc9b6e2",
   "metadata": {},
   "outputs": [
    {
     "data": {
      "text/plain": [
       "[('Simone BILES', 83.59561309142482),\n",
       " ('Jordan CHILES', 56.373744084667926),\n",
       " ('Joscelyn ROBERSON', 56.36979516793278),\n",
       " ('Jade CAREY', 51.530641939562756),\n",
       " ('Zoe MILLER', 48.19870117282156),\n",
       " ('Kaliya LINCOLN', 46.86621017871018),\n",
       " ('Shilese JONES', 46.83702756318038),\n",
       " ('Kayla DICELLO', 45.93310149844501),\n",
       " ('Skye BLAKELY', 33.4834524897418),\n",
       " ('Ashlee SULLIVAN', 31.753891656288918)]"
      ]
     },
     "execution_count": 617,
     "metadata": {},
     "output_type": "execute_result"
    }
   ],
   "source": [
    "sorted(womens_best_scores[2], key=lambda x: x[1], reverse = True)[0:10]"
   ]
  },
  {
   "cell_type": "code",
   "execution_count": 620,
   "id": "44af9c85",
   "metadata": {},
   "outputs": [],
   "source": [
    "### Women's Finalists for Team:\n",
    "# Simone Biles (X)\n",
    "# Jordan Chiles (X)\n",
    "# Joscelyn Roberson\n",
    "# Kayla Dicello\n",
    "# Jada Carey\n",
    "# Shilese Jones\n",
    "# Zoe Miller\n",
    "# Kaliya Lincoln\n",
    "# Skye Blakely \n",
    "# Ashlee Sullivan"
   ]
  },
  {
   "cell_type": "code",
   "execution_count": null,
   "id": "524b2a26",
   "metadata": {},
   "outputs": [],
   "source": []
  }
 ],
 "metadata": {
  "kernelspec": {
   "display_name": "Python 3 (ipykernel)",
   "language": "python",
   "name": "python3"
  },
  "language_info": {
   "codemirror_mode": {
    "name": "ipython",
    "version": 3
   },
   "file_extension": ".py",
   "mimetype": "text/x-python",
   "name": "python",
   "nbconvert_exporter": "python",
   "pygments_lexer": "ipython3",
   "version": "3.9.13"
  }
 },
 "nbformat": 4,
 "nbformat_minor": 5
}
